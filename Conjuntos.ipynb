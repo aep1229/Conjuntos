{
 "cells": [
  {
   "cell_type": "markdown",
   "id": "3d4e09f4",
   "metadata": {},
   "source": [
    "# Conjuntos"
   ]
  },
  {
   "cell_type": "code",
   "execution_count": 3,
   "id": "c91ed793",
   "metadata": {},
   "outputs": [],
   "source": [
    "# Criando um conjunto\n",
    "\n",
    "lista = [1,2,3,3,5,7,9,11,11,8,8,47]\n",
    "conjunto1 = set(lista)"
   ]
  },
  {
   "cell_type": "code",
   "execution_count": 4,
   "id": "d1bb0aad",
   "metadata": {},
   "outputs": [
    {
     "name": "stdout",
     "output_type": "stream",
     "text": [
      "{1, 2, 3, 5, 7, 8, 9, 11, 47}\n"
     ]
    }
   ],
   "source": [
    "print(conjunto1)"
   ]
  },
  {
   "cell_type": "code",
   "execution_count": 5,
   "id": "01d26fe7",
   "metadata": {},
   "outputs": [],
   "source": [
    "conjunto2 = {1, 3, 4, 3, 6, -7, 8, 4, 7, -5, 0, 0}"
   ]
  },
  {
   "cell_type": "code",
   "execution_count": 6,
   "id": "3164b5f3",
   "metadata": {},
   "outputs": [
    {
     "name": "stdout",
     "output_type": "stream",
     "text": [
      "{0, 1, 3, 4, 6, 7, 8, -7, -5}\n"
     ]
    }
   ],
   "source": [
    "print(conjunto2)"
   ]
  },
  {
   "cell_type": "code",
   "execution_count": 7,
   "id": "8790220a",
   "metadata": {},
   "outputs": [],
   "source": [
    "conjunto2.add(49)"
   ]
  },
  {
   "cell_type": "code",
   "execution_count": 8,
   "id": "c9aac08c",
   "metadata": {},
   "outputs": [
    {
     "name": "stdout",
     "output_type": "stream",
     "text": [
      "{0, 1, 3, 4, 6, 7, 8, 49, -7, -5}\n"
     ]
    }
   ],
   "source": [
    "print(conjunto2)"
   ]
  },
  {
   "cell_type": "code",
   "execution_count": 9,
   "id": "8717b157",
   "metadata": {},
   "outputs": [],
   "source": [
    "conjunto2.remove(49)"
   ]
  },
  {
   "cell_type": "code",
   "execution_count": 10,
   "id": "3e9def65",
   "metadata": {},
   "outputs": [
    {
     "name": "stdout",
     "output_type": "stream",
     "text": [
      "{0, 1, 3, 4, 6, 7, 8, -7, -5}\n"
     ]
    }
   ],
   "source": [
    "print(conjunto2)"
   ]
  },
  {
   "cell_type": "code",
   "execution_count": null,
   "id": "7a7ecc3b",
   "metadata": {},
   "outputs": [],
   "source": []
  }
 ],
 "metadata": {
  "kernelspec": {
   "display_name": "Python 3 (ipykernel)",
   "language": "python",
   "name": "python3"
  },
  "language_info": {
   "codemirror_mode": {
    "name": "ipython",
    "version": 3
   },
   "file_extension": ".py",
   "mimetype": "text/x-python",
   "name": "python",
   "nbconvert_exporter": "python",
   "pygments_lexer": "ipython3",
   "version": "3.10.9"
  }
 },
 "nbformat": 4,
 "nbformat_minor": 5
}
